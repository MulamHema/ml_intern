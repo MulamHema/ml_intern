{
  "metadata": {
    "kernelspec": {
      "language": "python",
      "display_name": "Python 3",
      "name": "python3"
    },
    "language_info": {
      "name": "python",
      "version": "3.10.12",
      "mimetype": "text/x-python",
      "codemirror_mode": {
        "name": "ipython",
        "version": 3
      },
      "pygments_lexer": "ipython3",
      "nbconvert_exporter": "python",
      "file_extension": ".py"
    },
    "kaggle": {
      "accelerator": "none",
      "dataSources": [
        {
          "sourceId": 4139805,
          "sourceType": "datasetVersion",
          "datasetId": 2445309
        }
      ],
      "dockerImageVersionId": 30635,
      "isInternetEnabled": false,
      "language": "python",
      "sourceType": "notebook",
      "isGpuEnabled": false
    },
    "colab": {
      "name": "task3a",
      "provenance": [],
      "include_colab_link": true
    }
  },
  "nbformat_minor": 0,
  "nbformat": 4,
  "cells": [
    {
      "cell_type": "markdown",
      "metadata": {
        "id": "view-in-github",
        "colab_type": "text"
      },
      "source": [
        "<a href=\"https://colab.research.google.com/github/MulamHema/ml_intern/blob/main/task3a.ipynb\" target=\"_parent\"><img src=\"https://colab.research.google.com/assets/colab-badge.svg\" alt=\"Open In Colab\"/></a>"
      ]
    },
    {
      "source": [
        "\n",
        "# IMPORTANT: RUN THIS CELL IN ORDER TO IMPORT YOUR KAGGLE DATA SOURCES\n",
        "# TO THE CORRECT LOCATION (/kaggle/input) IN YOUR NOTEBOOK,\n",
        "# THEN FEEL FREE TO DELETE THIS CELL.\n",
        "# NOTE: THIS NOTEBOOK ENVIRONMENT DIFFERS FROM KAGGLE'S PYTHON\n",
        "# ENVIRONMENT SO THERE MAY BE MISSING LIBRARIES USED BY YOUR\n",
        "# NOTEBOOK.\n",
        "\n",
        "import os\n",
        "import sys\n",
        "from tempfile import NamedTemporaryFile\n",
        "from urllib.request import urlopen\n",
        "from urllib.parse import unquote, urlparse\n",
        "from urllib.error import HTTPError\n",
        "from zipfile import ZipFile\n",
        "import tarfile\n",
        "import shutil\n",
        "\n",
        "CHUNK_SIZE = 40960\n",
        "DATA_SOURCE_MAPPING = 'bank-customer-churn-dataset:https%3A%2F%2Fstorage.googleapis.com%2Fkaggle-data-sets%2F2445309%2F4139805%2Fbundle%2Farchive.zip%3FX-Goog-Algorithm%3DGOOG4-RSA-SHA256%26X-Goog-Credential%3Dgcp-kaggle-com%2540kaggle-161607.iam.gserviceaccount.com%252F20240401%252Fauto%252Fstorage%252Fgoog4_request%26X-Goog-Date%3D20240401T155711Z%26X-Goog-Expires%3D259200%26X-Goog-SignedHeaders%3Dhost%26X-Goog-Signature%3Dcdd6b8045adcc414b4fb3af514ce2fc226f3ede8af5f0603c4cd1d1b70c9bbc370dd7f546527128db7f528395aa556f98c1a839f8c2c3e8b35b0b9901756b33554b57f5ab2c3d35d2e676dd0ae0bed3d102220817a31747d8b203f42fa1cbc72287d5d41dca7c799a3e39ba5f74dd0c46a37b3962e1ba269aea212097e170908e34b198555865c65ebfdcb728c043a5995e80153549a28fec495ac60d92aef8a298ccb984d80cc9e6365bbf821dfaf3963583a176da4e68903c374dfecbf3e1f7c8c6eba6a66c5b9ea664c937330ed0027dec48efa285519ab01d27f67fe53a78e51ff79eceaa1a703ae58d4ce853053efcab493ae9133596be90128c49a3a25'\n",
        "\n",
        "KAGGLE_INPUT_PATH='/kaggle/input'\n",
        "KAGGLE_WORKING_PATH='/kaggle/working'\n",
        "KAGGLE_SYMLINK='kaggle'\n",
        "\n",
        "!umount /kaggle/input/ 2> /dev/null\n",
        "shutil.rmtree('/kaggle/input', ignore_errors=True)\n",
        "os.makedirs(KAGGLE_INPUT_PATH, 0o777, exist_ok=True)\n",
        "os.makedirs(KAGGLE_WORKING_PATH, 0o777, exist_ok=True)\n",
        "\n",
        "try:\n",
        "  os.symlink(KAGGLE_INPUT_PATH, os.path.join(\"..\", 'input'), target_is_directory=True)\n",
        "except FileExistsError:\n",
        "  pass\n",
        "try:\n",
        "  os.symlink(KAGGLE_WORKING_PATH, os.path.join(\"..\", 'working'), target_is_directory=True)\n",
        "except FileExistsError:\n",
        "  pass\n",
        "\n",
        "for data_source_mapping in DATA_SOURCE_MAPPING.split(','):\n",
        "    directory, download_url_encoded = data_source_mapping.split(':')\n",
        "    download_url = unquote(download_url_encoded)\n",
        "    filename = urlparse(download_url).path\n",
        "    destination_path = os.path.join(KAGGLE_INPUT_PATH, directory)\n",
        "    try:\n",
        "        with urlopen(download_url) as fileres, NamedTemporaryFile() as tfile:\n",
        "            total_length = fileres.headers['content-length']\n",
        "            print(f'Downloading {directory}, {total_length} bytes compressed')\n",
        "            dl = 0\n",
        "            data = fileres.read(CHUNK_SIZE)\n",
        "            while len(data) > 0:\n",
        "                dl += len(data)\n",
        "                tfile.write(data)\n",
        "                done = int(50 * dl / int(total_length))\n",
        "                sys.stdout.write(f\"\\r[{'=' * done}{' ' * (50-done)}] {dl} bytes downloaded\")\n",
        "                sys.stdout.flush()\n",
        "                data = fileres.read(CHUNK_SIZE)\n",
        "            if filename.endswith('.zip'):\n",
        "              with ZipFile(tfile) as zfile:\n",
        "                zfile.extractall(destination_path)\n",
        "            else:\n",
        "              with tarfile.open(tfile.name) as tarfile:\n",
        "                tarfile.extractall(destination_path)\n",
        "            print(f'\\nDownloaded and uncompressed: {directory}')\n",
        "    except HTTPError as e:\n",
        "        print(f'Failed to load (likely expired) {download_url} to path {destination_path}')\n",
        "        continue\n",
        "    except OSError as e:\n",
        "        print(f'Failed to load {download_url} to path {destination_path}')\n",
        "        continue\n",
        "\n",
        "print('Data source import complete.')\n"
      ],
      "metadata": {
        "id": "VxgAwTZxYNKQ"
      },
      "cell_type": "code",
      "outputs": [],
      "execution_count": null
    },
    {
      "cell_type": "code",
      "source": [
        "# This Python 3 environment comes with many helpful analytics libraries installed\n",
        "# It is defined by the kaggle/python Docker image: https://github.com/kaggle/docker-python\n",
        "# For example, here's several helpful packages to load\n",
        "\n",
        "import numpy as np # linear algebra\n",
        "import pandas as pd # data processing, CSV file I/O (e.g. pd.read_csv)\n",
        "\n",
        "# Input data files are available in the read-only \"../input/\" directory\n",
        "# For example, running this (by clicking run or pressing Shift+Enter) will list all files under the input directory\n",
        "\n",
        "import os\n",
        "for dirname, _, filenames in os.walk('/kaggle/input'):\n",
        "    for filename in filenames:\n",
        "        print(os.path.join(dirname, filename))\n",
        "\n",
        "# You can write up to 20GB to the current directory (/kaggle/working/) that gets preserved as output when you create a version using \"Save & Run All\"\n",
        "# You can also write temporary files to /kaggle/temp/, but they won't be saved outside of the current session"
      ],
      "metadata": {
        "_uuid": "8f2839f25d086af736a60e9eeb907d3b93b6e0e5",
        "_cell_guid": "b1076dfc-b9ad-4769-8c92-a6c4dae69d19",
        "trusted": true,
        "id": "rUepdaKMYNKT"
      },
      "execution_count": null,
      "outputs": []
    },
    {
      "cell_type": "code",
      "source": [
        "import pandas as pd\n",
        "import seaborn as sns\n",
        "import matplotlib.pyplot as plt\n",
        "\n",
        "# Load your dataset (replace 'your_dataset.csv' with your actual file path)\n",
        "# Assuming the dataset has a header row\n",
        "data = pd.read_csv('/kaggle/input/bank-customer-churn-dataset/Bank Customer Churn Prediction.csv')\n",
        "\n",
        "# Extract a numerical column for boxplot visualization and outlier detection\n",
        "column_name = 'credit_score'  # Replace with the name of your numerical column\n",
        "\n",
        "# Create a boxplot\n",
        "plt.figure(figsize=(8, 6))\n",
        "sns.boxplot(x=data[column_name])\n",
        "plt.title('Boxplot for Outlier Detection')\n",
        "plt.show()\n"
      ],
      "metadata": {
        "execution": {
          "iopub.status.busy": "2024-01-17T13:03:02.842504Z",
          "iopub.execute_input": "2024-01-17T13:03:02.843226Z",
          "iopub.status.idle": "2024-01-17T13:03:05.105921Z",
          "shell.execute_reply.started": "2024-01-17T13:03:02.843183Z",
          "shell.execute_reply": "2024-01-17T13:03:05.104779Z"
        },
        "trusted": true,
        "id": "EqkspMsBYNKU",
        "outputId": "b5a089c2-cfda-48e9-b79b-aec6de40e3c1"
      },
      "execution_count": null,
      "outputs": [
        {
          "output_type": "display_data",
          "data": {
            "text/plain": "<Figure size 800x600 with 1 Axes>",
            "image/png": "[encoded data removed]"
          },
          "metadata": {}
        }
      ]
    },
    {
      "cell_type": "code",
      "source": [
        "data.head()"
      ],
      "metadata": {
        "execution": {
          "iopub.status.busy": "2024-01-17T13:05:06.463329Z",
          "iopub.execute_input": "2024-01-17T13:05:06.463721Z",
          "iopub.status.idle": "2024-01-17T13:05:06.484103Z",
          "shell.execute_reply.started": "2024-01-17T13:05:06.463691Z",
          "shell.execute_reply": "2024-01-17T13:05:06.482964Z"
        },
        "trusted": true,
        "id": "lV7C1h34YNKV",
        "outputId": "fc140825-7f5a-4c13-8a53-f642165ec2e9"
      },
      "execution_count": null,
      "outputs": [
        {
          "execution_count": 2,
          "output_type": "execute_result",
          "data": {
            "text/plain": "   customer_id  credit_score country  gender  age  tenure    balance  \\\n0     15634602           619  France  Female   42       2       0.00   \n1     15647311           608   Spain  Female   41       1   83807.86   \n2     15619304           502  France  Female   42       8  159660.80   \n3     15701354           699  France  Female   39       1       0.00   \n4     15737888           850   Spain  Female   43       2  125510.82   \n\n   products_number  credit_card  active_member  estimated_salary  churn  \n0                1            1              1         101348.88      1  \n1                1            0              1         112542.58      0  \n2                3            1              0         113931.57      1  \n3                2            0              0          93826.63      0  \n4                1            1              1          79084.10      0  ",
            "text/html": "<div>\n<style scoped>\n    .dataframe tbody tr th:only-of-type {\n        vertical-align: middle;\n    }\n\n    .dataframe tbody tr th {\n        vertical-align: top;\n    }\n\n    .dataframe thead th {\n        text-align: right;\n    }\n</style>\n<table border=\"1\" class=\"dataframe\">\n  <thead>\n    <tr style=\"text-align: right;\">\n      <th></th>\n      <th>customer_id</th>\n      <th>credit_score</th>\n      <th>country</th>\n      <th>gender</th>\n      <th>age</th>\n      <th>tenure</th>\n      <th>balance</th>\n      <th>products_number</th>\n      <th>credit_card</th>\n      <th>active_member</th>\n      <th>estimated_salary</th>\n      <th>churn</th>\n    </tr>\n  </thead>\n  <tbody>\n    <tr>\n      <th>0</th>\n      <td>15634602</td>\n      <td>619</td>\n      <td>France</td>\n      <td>Female</td>\n      <td>42</td>\n      <td>2</td>\n      <td>0.00</td>\n      <td>1</td>\n      <td>1</td>\n      <td>1</td>\n      <td>101348.88</td>\n      <td>1</td>\n    </tr>\n    <tr>\n      <th>1</th>\n      <td>15647311</td>\n      <td>608</td>\n      <td>Spain</td>\n      <td>Female</td>\n      <td>41</td>\n      <td>1</td>\n      <td>83807.86</td>\n      <td>1</td>\n      <td>0</td>\n      <td>1</td>\n      <td>112542.58</td>\n      <td>0</td>\n    </tr>\n    <tr>\n      <th>2</th>\n      <td>15619304</td>\n      <td>502</td>\n      <td>France</td>\n      <td>Female</td>\n      <td>42</td>\n      <td>8</td>\n      <td>159660.80</td>\n      <td>3</td>\n      <td>1</td>\n      <td>0</td>\n      <td>113931.57</td>\n      <td>1</td>\n    </tr>\n    <tr>\n      <th>3</th>\n      <td>15701354</td>\n      <td>699</td>\n      <td>France</td>\n      <td>Female</td>\n      <td>39</td>\n      <td>1</td>\n      <td>0.00</td>\n      <td>2</td>\n      <td>0</td>\n      <td>0</td>\n      <td>93826.63</td>\n      <td>0</td>\n    </tr>\n    <tr>\n      <th>4</th>\n      <td>15737888</td>\n      <td>850</td>\n      <td>Spain</td>\n      <td>Female</td>\n      <td>43</td>\n      <td>2</td>\n      <td>125510.82</td>\n      <td>1</td>\n      <td>1</td>\n      <td>1</td>\n      <td>79084.10</td>\n      <td>0</td>\n    </tr>\n  </tbody>\n</table>\n</div>"
          },
          "metadata": {}
        }
      ]
    },
    {
      "cell_type": "code",
      "source": [
        "data.describe()"
      ],
      "metadata": {
        "execution": {
          "iopub.status.busy": "2024-01-17T13:05:34.257188Z",
          "iopub.execute_input": "2024-01-17T13:05:34.257583Z",
          "iopub.status.idle": "2024-01-17T13:05:34.302344Z",
          "shell.execute_reply.started": "2024-01-17T13:05:34.257549Z",
          "shell.execute_reply": "2024-01-17T13:05:34.301275Z"
        },
        "trusted": true,
        "id": "SVJDvLvBYNKW",
        "outputId": "5ddcfad6-40d1-4488-a10d-5361d2965f0a"
      },
      "execution_count": null,
      "outputs": [
        {
          "execution_count": 3,
          "output_type": "execute_result",
          "data": {
            "text/plain": "        customer_id  credit_score           age        tenure        balance  \\\ncount  1.000000e+04  10000.000000  10000.000000  10000.000000   10000.000000   \nmean   1.569094e+07    650.528800     38.921800      5.012800   76485.889288   \nstd    7.193619e+04     96.653299     10.487806      2.892174   62397.405202   \nmin    1.556570e+07    350.000000     18.000000      0.000000       0.000000   \n25%    1.562853e+07    584.000000     32.000000      3.000000       0.000000   \n50%    1.569074e+07    652.000000     37.000000      5.000000   97198.540000   \n75%    1.575323e+07    718.000000     44.000000      7.000000  127644.240000   \nmax    1.581569e+07    850.000000     92.000000     10.000000  250898.090000   \n\n       products_number  credit_card  active_member  estimated_salary  \\\ncount     10000.000000  10000.00000   10000.000000      10000.000000   \nmean          1.530200      0.70550       0.515100     100090.239881   \nstd           0.581654      0.45584       0.499797      57510.492818   \nmin           1.000000      0.00000       0.000000         11.580000   \n25%           1.000000      0.00000       0.000000      51002.110000   \n50%           1.000000      1.00000       1.000000     100193.915000   \n75%           2.000000      1.00000       1.000000     149388.247500   \nmax           4.000000      1.00000       1.000000     199992.480000   \n\n              churn  \ncount  10000.000000  \nmean       0.203700  \nstd        0.402769  \nmin        0.000000  \n25%        0.000000  \n50%        0.000000  \n75%        0.000000  \nmax        1.000000  ",
            "text/html": "<div>\n<style scoped>\n    .dataframe tbody tr th:only-of-type {\n        vertical-align: middle;\n    }\n\n    .dataframe tbody tr th {\n        vertical-align: top;\n    }\n\n    .dataframe thead th {\n        text-align: right;\n    }\n</style>\n<table border=\"1\" class=\"dataframe\">\n  <thead>\n    <tr style=\"text-align: right;\">\n      <th></th>\n      <th>customer_id</th>\n      <th>credit_score</th>\n      <th>age</th>\n      <th>tenure</th>\n      <th>balance</th>\n      <th>products_number</th>\n      <th>credit_card</th>\n      <th>active_member</th>\n      <th>estimated_salary</th>\n      <th>churn</th>\n    </tr>\n  </thead>\n  <tbody>\n    <tr>\n      <th>count</th>\n      <td>1.000000e+04</td>\n      <td>10000.000000</td>\n      <td>10000.000000</td>\n      <td>10000.000000</td>\n      <td>10000.000000</td>\n      <td>10000.000000</td>\n      <td>10000.00000</td>\n      <td>10000.000000</td>\n      <td>10000.000000</td>\n      <td>10000.000000</td>\n    </tr>\n    <tr>\n      <th>mean</th>\n      <td>1.569094e+07</td>\n      <td>650.528800</td>\n      <td>38.921800</td>\n      <td>5.012800</td>\n      <td>76485.889288</td>\n      <td>1.530200</td>\n      <td>0.70550</td>\n      <td>0.515100</td>\n      <td>100090.239881</td>\n      <td>0.203700</td>\n    </tr>\n    <tr>\n      <th>std</th>\n      <td>7.193619e+04</td>\n      <td>96.653299</td>\n      <td>10.487806</td>\n      <td>2.892174</td>\n      <td>62397.405202</td>\n      <td>0.581654</td>\n      <td>0.45584</td>\n      <td>0.499797</td>\n      <td>57510.492818</td>\n      <td>0.402769</td>\n    </tr>\n    <tr>\n      <th>min</th>\n      <td>1.556570e+07</td>\n      <td>350.000000</td>\n      <td>18.000000</td>\n      <td>0.000000</td>\n      <td>0.000000</td>\n      <td>1.000000</td>\n      <td>0.00000</td>\n      <td>0.000000</td>\n      <td>11.580000</td>\n      <td>0.000000</td>\n    </tr>\n    <tr>\n      <th>25%</th>\n      <td>1.562853e+07</td>\n      <td>584.000000</td>\n      <td>32.000000</td>\n      <td>3.000000</td>\n      <td>0.000000</td>\n      <td>1.000000</td>\n      <td>0.00000</td>\n      <td>0.000000</td>\n      <td>51002.110000</td>\n      <td>0.000000</td>\n    </tr>\n    <tr>\n      <th>50%</th>\n      <td>1.569074e+07</td>\n      <td>652.000000</td>\n      <td>37.000000</td>\n      <td>5.000000</td>\n      <td>97198.540000</td>\n      <td>1.000000</td>\n      <td>1.00000</td>\n      <td>1.000000</td>\n      <td>100193.915000</td>\n      <td>0.000000</td>\n    </tr>\n    <tr>\n      <th>75%</th>\n      <td>1.575323e+07</td>\n      <td>718.000000</td>\n      <td>44.000000</td>\n      <td>7.000000</td>\n      <td>127644.240000</td>\n      <td>2.000000</td>\n      <td>1.00000</td>\n      <td>1.000000</td>\n      <td>149388.247500</td>\n      <td>0.000000</td>\n    </tr>\n    <tr>\n      <th>max</th>\n      <td>1.581569e+07</td>\n      <td>850.000000</td>\n      <td>92.000000</td>\n      <td>10.000000</td>\n      <td>250898.090000</td>\n      <td>4.000000</td>\n      <td>1.00000</td>\n      <td>1.000000</td>\n      <td>199992.480000</td>\n      <td>1.000000</td>\n    </tr>\n  </tbody>\n</table>\n</div>"
          },
          "metadata": {}
        }
      ]
    },
    {
      "cell_type": "code",
      "source": [
        "data.columns"
      ],
      "metadata": {
        "execution": {
          "iopub.status.busy": "2024-01-17T13:06:08.022741Z",
          "iopub.execute_input": "2024-01-17T13:06:08.023194Z",
          "iopub.status.idle": "2024-01-17T13:06:08.032484Z",
          "shell.execute_reply.started": "2024-01-17T13:06:08.023159Z",
          "shell.execute_reply": "2024-01-17T13:06:08.031073Z"
        },
        "trusted": true,
        "id": "P7aLysZhYNKW",
        "outputId": "8fae9e9b-d070-4dde-c9c8-536556bbc6b6"
      },
      "execution_count": null,
      "outputs": [
        {
          "execution_count": 4,
          "output_type": "execute_result",
          "data": {
            "text/plain": "Index(['customer_id', 'credit_score', 'country', 'gender', 'age', 'tenure',\n       'balance', 'products_number', 'credit_card', 'active_member',\n       'estimated_salary', 'churn'],\n      dtype='object')"
          },
          "metadata": {}
        }
      ]
    },
    {
      "cell_type": "code",
      "source": [
        "import numpy as np\n",
        "import pandas as pd\n",
        "from scipy.stats import zscore\n",
        "# Extract a numerical column for Z-score calculation and outlier detection\n",
        "column_name = 'credit_score'  # Replace with the name of your numerical column\n",
        "\n",
        "# Calculate Z-scores\n",
        "z_scores = zscore(data[column_name])\n",
        "\n",
        "# Define a threshold for outlier detection (adjust as needed)\n",
        "threshold = 3\n",
        "\n",
        "# Identify outliers based on Z-scores\n",
        "outliers = np.abs(z_scores) > threshold\n",
        "\n",
        "# Print the indices of detected outliers\n",
        "outlier_indices = np.where(outliers)[0]\n",
        "print(\"Indices of detected outliers:\", outlier_indices)\n",
        "\n",
        "# Print the values of detected outliers\n",
        "print(\"Values of detected outliers:\", data[column_name][outlier_indices])"
      ],
      "metadata": {
        "execution": {
          "iopub.status.busy": "2024-01-17T13:07:31.040398Z",
          "iopub.execute_input": "2024-01-17T13:07:31.041343Z",
          "iopub.status.idle": "2024-01-17T13:07:31.054735Z",
          "shell.execute_reply.started": "2024-01-17T13:07:31.0413Z",
          "shell.execute_reply": "2024-01-17T13:07:31.053464Z"
        },
        "trusted": true,
        "id": "4roxDXn8YNKX",
        "outputId": "19af1f1c-8879-4be5-c870-e164bf7febab"
      },
      "execution_count": null,
      "outputs": [
        {
          "name": "stdout",
          "text": "Indices of detected outliers: [1405 1631 1838 1962 2473 8723 8762 9624]\nValues of detected outliers: 1405    359\n1631    350\n1838    350\n1962    358\n2473    351\n8723    350\n8762    350\n9624    350\nName: credit_score, dtype: int64\n",
          "output_type": "stream"
        }
      ]
    },
    {
      "cell_type": "code",
      "source": [
        "column_name = 'credit_score'  # Replace with the name of your numerical column\n",
        "\n",
        "# Calculate Interquartile Range (IQR)\n",
        "Q1 = np.percentile(data[column_name], 25)\n",
        "Q3 = np.percentile(data[column_name], 75)\n",
        "IQR = Q3 - Q1\n",
        "\n",
        "# Define a threshold for outlier detection (adjust as needed)\n",
        "threshold = 1.5\n",
        "\n",
        "# Identify outliers based on the IQR method\n",
        "lower_bound = Q1 - threshold * IQR\n",
        "upper_bound = Q3 + threshold * IQR\n",
        "\n",
        "outliers = (data[column_name] < lower_bound) | (data[column_name] > upper_bound)\n",
        "\n",
        "# Print the indices of detected outliers\n",
        "outlier_indices = np.where(outliers)[0]\n",
        "print(\"Indices of detected outliers:\", outlier_indices)"
      ],
      "metadata": {
        "execution": {
          "iopub.status.busy": "2024-01-17T13:07:55.362101Z",
          "iopub.execute_input": "2024-01-17T13:07:55.362893Z",
          "iopub.status.idle": "2024-01-17T13:07:55.373066Z",
          "shell.execute_reply.started": "2024-01-17T13:07:55.362855Z",
          "shell.execute_reply": "2024-01-17T13:07:55.371956Z"
        },
        "trusted": true,
        "id": "7WtmHG0jYNKX",
        "outputId": "66c225d1-1fac-470c-cb8b-4e52c6171df4"
      },
      "execution_count": null,
      "outputs": [
        {
          "name": "stdout",
          "text": "Indices of detected outliers: [   7  942 1193 1405 1631 1838 1962 2473 2579 8154 8723 8762 9210 9356\n 9624]\n",
          "output_type": "stream"
        }
      ]
    },
    {
      "cell_type": "code",
      "source": [
        "print(\"Values of detected outliers:\", data[column_name][outlier_indices])\n"
      ],
      "metadata": {
        "execution": {
          "iopub.status.busy": "2024-01-17T13:13:57.628798Z",
          "iopub.execute_input": "2024-01-17T13:13:57.629793Z",
          "iopub.status.idle": "2024-01-17T13:13:57.638285Z",
          "shell.execute_reply.started": "2024-01-17T13:13:57.629713Z",
          "shell.execute_reply": "2024-01-17T13:13:57.637057Z"
        },
        "trusted": true,
        "id": "ktip2EnjYNKY",
        "outputId": "2ec5fdbe-ead7-4cb0-d9d8-4339a753fdd8"
      },
      "execution_count": null,
      "outputs": [
        {
          "name": "stdout",
          "text": "Values of detected outliers: 7       376\n942     376\n1193    363\n1405    359\n1631    350\n1838    350\n1962    358\n2473    351\n2579    365\n8154    367\n8723    350\n8762    350\n9210    382\n9356    373\n9624    350\nName: credit_score, dtype: int64\n",
          "output_type": "stream"
        }
      ]
    },
    {
      "cell_type": "code",
      "source": [
        "# Step 1: Trimming/Remove outliers\n",
        "# Calculate Z-scores\n",
        "z_scores = zscore(data[column_name])\n",
        "\n",
        "# Define a threshold for outlier detection (any Z-score outside of 3rd standard deviation)\n",
        "z_threshold = 3\n",
        "\n",
        "# Identify outliers based on Z-scores\n",
        "outliers = np.abs(z_scores) > z_threshold\n",
        "\n",
        "# Remove outliers\n",
        "data_trimmed = data[~outliers]\n",
        "\n",
        "# Step 2: Quantile-Based Flooring and Capping\n",
        "# Set a range for quantile-based flooring and capping (adjust as needed)\n",
        "floor_quantile = 0.05\n",
        "cap_quantile = 0.95\n",
        "\n",
        "floor_value = data[column_name].quantile(floor_quantile)\n",
        "cap_value = data[column_name].quantile(cap_quantile)\n",
        "\n",
        "# Flooring and capping\n",
        "data_floor_cap = data.copy()\n",
        "data_floor_cap[column_name] = np.clip(data_floor_cap[column_name], floor_value, cap_value)\n",
        "\n",
        "# Step 3: Mean/Median Imputation\n",
        "# Impute missing values (if any) with mean or median\n",
        "imputation_value = data[column_name].median()  # Change to mean() if you prefer mean imputation\n",
        "data_imputed = data.copy()\n",
        "data_imputed[column_name] = data_imputed[column_name].fillna(imputation_value)\n",
        "\n",
        "# Visualizing the Data before and after treating outliers\n",
        "plt.figure(figsize=(12, 8))\n",
        "\n",
        "# Before treatment\n",
        "plt.subplot(2, 2, 1)\n",
        "sns.boxplot(x=data[column_name])\n",
        "plt.title('Before Outlier Treatment')\n",
        "\n",
        "# After trimming\n",
        "plt.subplot(2, 2, 2)\n",
        "sns.boxplot(x=data_trimmed[column_name])\n",
        "plt.title('After Trimming Outliers')\n",
        "\n",
        "# After quantile-based flooring and capping\n",
        "plt.subplot(2, 2, 3)\n",
        "sns.boxplot(x=data_floor_cap[column_name])\n",
        "plt.title('After Flooring and Capping')\n",
        "\n",
        "# After mean/median imputation\n",
        "plt.subplot(2, 2, 4)\n",
        "sns.boxplot(x=data_imputed[column_name])\n",
        "plt.title('After Mean/Median Imputation')\n",
        "\n",
        "plt.tight_layout()\n",
        "plt.show()"
      ],
      "metadata": {
        "execution": {
          "iopub.status.busy": "2024-01-17T13:14:35.64326Z",
          "iopub.execute_input": "2024-01-17T13:14:35.643657Z",
          "iopub.status.idle": "2024-01-17T13:14:36.323388Z",
          "shell.execute_reply.started": "2024-01-17T13:14:35.643628Z",
          "shell.execute_reply": "2024-01-17T13:14:36.322265Z"
        },
        "trusted": true,
        "id": "vWmQJsj0YNKY",
        "outputId": "97668f38-996e-4a57-aba6-53335b40b3d8"
      },
      "execution_count": null,
      "outputs": [
        {
          "output_type": "display_data",
          "data": {
            "text/plain": "<Figure size 1200x800 with 4 Axes>",
            "image/png": "[encoded data removed]"
          },
          "metadata": {}
        }
      ]
    }
  ]
}